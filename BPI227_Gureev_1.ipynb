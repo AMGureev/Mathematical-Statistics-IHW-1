{
  "nbformat": 4,
  "nbformat_minor": 0,
  "metadata": {
    "colab": {
      "provenance": []
    },
    "kernelspec": {
      "name": "python3",
      "display_name": "Python 3"
    },
    "language_info": {
      "name": "python"
    }
  },
  "cells": [
    {
      "cell_type": "markdown",
      "source": [
        "\n",
        "# Гуреев Александр БПИ227. Математическая статистика. ИДЗ-1. Вариант 7"
      ],
      "metadata": {
        "id": "aHMf8Pwp7RVP"
      }
    },
    {
      "cell_type": "markdown",
      "source": [
        "Импортируем библиотеки, которые потребуются для решения задач"
      ],
      "metadata": {
        "id": "9fZVonFD7uzl"
      }
    },
    {
      "cell_type": "code",
      "execution_count": 1,
      "metadata": {
        "colab": {
          "base_uri": "https://localhost:8080/",
          "height": 0
        },
        "id": "6wF2AM1i7PFM",
        "outputId": "d1418029-eec0-41b7-8e22-6946b048e503"
      },
      "outputs": [
        {
          "output_type": "stream",
          "name": "stdout",
          "text": [
            "Requirement already satisfied: scipy in /usr/local/lib/python3.10/dist-packages (1.11.4)\n",
            "Collecting scipy\n",
            "  Downloading scipy-1.12.0-cp310-cp310-manylinux_2_17_x86_64.manylinux2014_x86_64.whl (38.4 MB)\n",
            "\u001b[2K     \u001b[90m━━━━━━━━━━━━━━━━━━━━━━━━━━━━━━━━━━━━━━━━\u001b[0m \u001b[32m38.4/38.4 MB\u001b[0m \u001b[31m7.5 MB/s\u001b[0m eta \u001b[36m0:00:00\u001b[0m\n",
            "\u001b[?25hRequirement already satisfied: numpy<1.29.0,>=1.22.4 in /usr/local/lib/python3.10/dist-packages (from scipy) (1.25.2)\n",
            "Installing collected packages: scipy\n",
            "  Attempting uninstall: scipy\n",
            "    Found existing installation: scipy 1.11.4\n",
            "    Uninstalling scipy-1.11.4:\n",
            "      Successfully uninstalled scipy-1.11.4\n",
            "Successfully installed scipy-1.12.0\n"
          ]
        }
      ],
      "source": [
        "!pip install --upgrade scipy\n",
        "import scipy as sc\n",
        "import numpy as nu\n",
        "from math import *\n",
        "import matplotlib.pyplot as plt\n",
        "from typing import *\n",
        "import random as r"
      ]
    },
    {
      "cell_type": "markdown",
      "source": [
        "## Зачада №1. Результаты измерения обхвата грудной клетки 120 женщин, см.\n",
        "\n",
        "Данные хранятся в файле **`data.txt`**[(скачать файл)](https://drive.google.com/file/d/1dQOmPAdlHUeNotwjmjyuf-FwFYK47KO1/view?usp=sharing). Считаем данные из файла:"
      ],
      "metadata": {
        "id": "y-8ewIdK8QLD"
      }
    },
    {
      "cell_type": "code",
      "source": [
        "Selection = List[float]\n",
        "\n",
        "# Считываем информацию из файла\n",
        "with open(\"data.txt\", encoding=\"UTF-8\") as file:\n",
        "    data = [int(el) for line in file.readlines() for el in line.strip().split()]\n",
        "\n",
        "data: Selection = data"
      ],
      "metadata": {
        "id": "MSlu75uo8Zzi"
      },
      "execution_count": 2,
      "outputs": []
    },
    {
      "cell_type": "markdown",
      "source": [
        "### Пункт 1. Постройте статистический ряд, предварительно определив число интервалов с помощью формулы Стерджесса"
      ],
      "metadata": {
        "id": "yFscWkHbASqd"
      }
    },
    {
      "cell_type": "markdown",
      "source": [
        "У нас есть выборка данных, состоящая из элементов \\($x_1, x_2, \\ldots, x_n$\\).\n",
        "\n",
        "Статистический ряд определяется как последовательность пар \\($\\epsilon_i, \\hat{p_i})$\\, где:\n",
        "- \\($\\epsilon_i$\\) - интервал или класс, содержащий значения из выборки,\n",
        "- \\($\\hat{p_i}$\\) - относительная частота появления значений из выборки в интервале \\($\\epsilon_i$\\).\n",
        "\n",
        "Относительная частота \\($\\hat{p_i}$\\) для каждого интервала \\($\\epsilon_i$\\) вычисляется по формуле:\n",
        "\n",
        "\\$\n",
        "\\hat{p_i} = \\frac{1}{n} \\sum_{i=1}^{n}I(x_i \\in \\epsilon_i)\n",
        "$\\\n",
        "Где:\n",
        "- \\$I(x_i \\in \\epsilon_i)\\$ - индикаторная функция, которая равна 1, если значение \\$(x_i\\$) попадает в интервал \\$(\\epsilon_i\\$), и 0 в противном случае.\n",
        "\n",
        "Построим статистический ряд:"
      ],
      "metadata": {
        "id": "-MkhGDNPBhE3"
      }
    },
    {
      "cell_type": "code",
      "source": [
        "Interval = Tuple[float, float]\n",
        "StatSeries = List[Tuple[Interval, float]]\n",
        "\n",
        "# Функция для определения оптимального количества интервалов по правилу Стерджесса\n",
        "def sturges_rule(selection: Selection) -> int:\n",
        "    N = len(selection)\n",
        "    return 1 + floor(log2(N))\n",
        "\n",
        "# Функция для генерации интервалов статистического ряда\n",
        "def generate_intervals(data: Selection, intervals_count: int) -> List[Interval]:\n",
        "    # Генерируем равномерно распределенные интервалы на основе минимального и максимального значения данных\n",
        "    interval_boundaries = nu.linspace(min(data), max(data), intervals_count + 1)\n",
        "    return list(zip(interval_boundaries, interval_boundaries[1:]))\n",
        "\n",
        "# Функция для проверки принадлежности значения интервалу\n",
        "def is_in_interval(x: float, interval: Interval, inclusive_right: bool = False) -> bool:\n",
        "    return (interval[0] <= x <= interval[1]) if inclusive_right else (interval[0] <= x < interval[1])\n",
        "\n",
        "# Функция для построения статистического ряда\n",
        "def build_statistical_series(data: Selection, intervals: List[Interval]) -> StatSeries:\n",
        "    # Вычисляем частоту попадания значений в каждый интервал\n",
        "    stat_series = [(interval, sum([is_in_interval(x, interval, i+1 == len(intervals)) for x in data])/len(data)) for i, interval in enumerate(intervals)]\n",
        "    return stat_series\n",
        "\n",
        "intervals_count = sturges_rule(data)\n",
        "intervals = generate_intervals(data, intervals_count)\n",
        "stat_series = build_statistical_series(data, intervals)\n",
        "\n",
        "print(\"Статистический ряд:\")\n",
        "for interval, frequency in stat_series:\n",
        "    print(f\"Интервал: {interval}, Частота: {frequency}\")"
      ],
      "metadata": {
        "colab": {
          "base_uri": "https://localhost:8080/",
          "height": 0
        },
        "id": "geKBKRt3AYU0",
        "outputId": "2882e63c-40a0-4a41-d220-3b698ccc4c87"
      },
      "execution_count": 3,
      "outputs": [
        {
          "output_type": "stream",
          "name": "stdout",
          "text": [
            "Статистический ряд:\n",
            "Интервал: (89.0, 91.85714285714286), Частота: 0.10833333333333334\n",
            "Интервал: (91.85714285714286, 94.71428571428571), Частота: 0.19166666666666668\n",
            "Интервал: (94.71428571428571, 97.57142857142857), Частота: 0.275\n",
            "Интервал: (97.57142857142857, 100.42857142857143), Частота: 0.23333333333333334\n",
            "Интервал: (100.42857142857143, 103.28571428571429), Частота: 0.10833333333333334\n",
            "Интервал: (103.28571428571429, 106.14285714285714), Частота: 0.058333333333333334\n",
            "Интервал: (106.14285714285714, 109.0), Частота: 0.025\n"
          ]
        }
      ]
    },
    {
      "cell_type": "markdown",
      "source": [
        "### Пункт 2. Постройте гистограмму"
      ],
      "metadata": {
        "id": "tr4SUVWxFZCZ"
      }
    },
    {
      "cell_type": "markdown",
      "source": [
        "Гистограмма строится почти так же, как и статистический ряд. Однако она включает дополнительные интервалы на краях, от минус бесконечности до первой порядковой статистики и от последней порядковой статистики до плюс бесконечности. Высота каждого столбца гистограммы вычисляется по формуле:\n",
        "\n",
        "$\\ h_i = \\frac{\\hat{p_i}}{\\Delta}\\ $\n",
        "\n",
        "где \\$ \\hat{p_i} \\$ - относительная частота попадания значений в интервал \\$  \\epsilon_i \\$ из статистического ряда, а \\$ \\Delta \\$ - ширина каждого интервала гистограммы, равная:\n",
        "\n",
        "$\\ \\Delta = \\frac{x_{(n)} - x_{(1)}}{m} \\$\n",
        "\n",
        "где:\n",
        "- $\\ x_{(n)} $ - максимальное значение в выборке,\n",
        "- $\\ x_{(1)} $ - минимальное значение в выборке,\n",
        "- $\\ m $ - количество интервалов.\n",
        "\n",
        "Получается, что каждый столбец гистограммы представляет собой относительную частоту попадания значений в соответствующий интервал статистического ряда, нормированную на ширину интервала гистограммы.\n"
      ],
      "metadata": {
        "id": "5EF2w9Zxj8wp"
      }
    },
    {
      "cell_type": "code",
      "source": [
        "gist_delta = (max(data) - min(data)) / intervals_count\n",
        "\n",
        "# Функция для форматирования интервалов\n",
        "def format_interval(interval: Interval, decimals: int = 2) -> str:\n",
        "    return f\"[{interval[0]:.{decimals}f}, {interval[1]:.{decimals}f})\"\n",
        "\n",
        "# Построение гистограмм\n",
        "fig, ax1 = plt.subplots(1, 1)\n",
        "# Левый график с пользовательским представлением интервалов\n",
        "ax1.bar([format_interval(s[0]) for s in stat_series], [s[1] / gist_delta for s in stat_series])\n",
        "ax1.set_title('По определению')\n",
        "\n",
        "plt.show()"
      ],
      "metadata": {
        "colab": {
          "base_uri": "https://localhost:8080/",
          "height": 452
        },
        "id": "fsyVzsBWjIFZ",
        "outputId": "324b5784-a005-46e2-f4c1-9adad794f3bb"
      },
      "execution_count": 4,
      "outputs": [
        {
          "output_type": "display_data",
          "data": {
            "text/plain": [
              "<Figure size 640x480 with 1 Axes>"
            ],
            "image/png": "[encoded data removed]"
          },
          "metadata": {}
        }
      ]
    },
    {
      "cell_type": "markdown",
      "source": [
        "Смотрим на графики и делаем вывод, что написанный алгоритм работает правильно."
      ],
      "metadata": {
        "id": "Z0GXW9br1G8m"
      }
    },
    {
      "cell_type": "markdown",
      "source": [
        "### Пункт 3. Найдите значения точечных оценок математического ожидания и дисперсии"
      ],
      "metadata": {
        "id": "HhFp7wwDlxk6"
      }
    },
    {
      "cell_type": "markdown",
      "source": [
        "1. **Точечная оценка математического ожидания**:\n",
        "   \n",
        "   Оценка математического ожидания, обозначаемая как $\\ \\hat{m}$ или $\\ \\overline{X} $\\, вычисляется как среднее значение выборки $\\ x_1, x_2, \\ldots, x_n $\\:\n",
        "\n",
        "   $\\ \\hat{m} = \\overline{X} = \\frac{1}{n} \\sum_{i=1}^n x_i $\n",
        "\n",
        "   Где:\n",
        "   - $\\ n $ - количество наблюдений в выборке,\n",
        "   - $\\ x_i $ - каждое наблюдение в выборке.\n",
        "\n"
      ],
      "metadata": {
        "id": "cUmpXHwll75i"
      }
    },
    {
      "cell_type": "code",
      "source": [
        "# Вычисляем точечное мат. ожидание\n",
        "expected_value = sc.stats.tmean(data)\n",
        "print(f'Мат. ожидание = {expected_value}')"
      ],
      "metadata": {
        "colab": {
          "base_uri": "https://localhost:8080/"
        },
        "id": "fr1y88zRqVx7",
        "outputId": "2ffedc69-70f7-4eee-f3a7-fbc8680a8a21"
      },
      "execution_count": null,
      "outputs": [
        {
          "output_type": "stream",
          "name": "stdout",
          "text": [
            "Мат. ожидание = 96.98333333333333\n"
          ]
        }
      ]
    },
    {
      "cell_type": "markdown",
      "source": [
        "2. **Точечная оценка дисперсии**:\n",
        "   \n",
        "   Оценка дисперсии, обозначаемая как $\\ \\hat{\\sigma^2} $ или $\\ s^2 $\\, вычисляется как среднее квадратичное отклонение каждого наблюдения от среднего:\n",
        "\n",
        "   \\$ \\hat{\\sigma^2} = s^2 = \\frac{1}{n} \\sum_{i=1}^n (x_i - \\hat{m})^2 $\n",
        "\n",
        "   Где:\n",
        "   - $\\ n $ - количество наблюдений в выборке,\n",
        "   - $\\ x_i $ - каждое наблюдение в выборке,\n",
        "   - $\\ \\hat{m} $ - оценка математического ожидания (выборочное среднее)."
      ],
      "metadata": {
        "id": "gzkbLbVMqUp9"
      }
    },
    {
      "cell_type": "code",
      "source": [
        "# Вычисляем точечную дисперсию\n",
        "variance = sc.stats.tvar(data)\n",
        "print(f'Дисперсия = {variance}')"
      ],
      "metadata": {
        "colab": {
          "base_uri": "https://localhost:8080/"
        },
        "id": "tkJeNMnGqMEu",
        "outputId": "3d06df5f-85db-41e9-9a05-99be959f9720"
      },
      "execution_count": null,
      "outputs": [
        {
          "output_type": "stream",
          "name": "stdout",
          "text": [
            "Дисперсия = 19.10896358543417\n"
          ]
        }
      ]
    },
    {
      "cell_type": "markdown",
      "source": [
        "### Пункт 4. На основе анализа результатов наблюдений выдвинете гипотезу о виде закона распределения наблюдаемой случайной величины"
      ],
      "metadata": {
        "id": "eTeuBltVrgdY"
      }
    },
    {
      "cell_type": "markdown",
      "source": [
        "Исходя из схожести формы гистограммы с функцией плотности нормального распределения, мы можем выдвинуть следующую гипотезу:\n",
        "\n",
        "- Нулевая гипотеза $\\ H_0 $ предполагает, что случайная величина имеет нормальное распределение $\\ N(m, \\sigma^2) $\\, где $\\ m $ - среднее значение и $\\ \\sigma^2 $ - дисперсия.\n",
        "\n",
        "- Альтернативная гипотеза $\\ H_a $ утверждает, что случайная величина имеет другое распределение.\n"
      ],
      "metadata": {
        "id": "3eGir3JmrkOd"
      }
    },
    {
      "cell_type": "markdown",
      "source": [
        "### Пункт 5. С помощью критерия хи-квадрат проверьте гипотезу, сформулированную в [п.4](#Пункт-4.-На-основе-анализа-результатов-наблюдений-выдвинете-гипотезу-о-виде-закона-распределения-наблюдаемой-случайной-величины)\n"
      ],
      "metadata": {
        "id": "tYyxCWmE1oz5"
      }
    },
    {
      "cell_type": "markdown",
      "source": [
        "Для проверки гипотезы с использованием критерия хи-квадрат использую следующие шаги:\n",
        "\n",
        "1. **Подготовка данных**: Разбиваем наблюдаемый диапазон значений на интервалы и подсчитываем количество наблюдений в каждом интервале.\n",
        "\n",
        "2. **Оценка параметров**: Оцениваем параметры нормального распределения (среднее $\\ m $ и дисперсию$\\ \\sigma^2 $) на основе имеющихся данных.\n",
        "\n",
        "3. **Оценка ожидаемых частот**: Для каждого интервала вычисляем ожидаемую частоту $\\ p_k' $ на основе предполагаемого нормального распределения.\n",
        "\n",
        "4. **Вычисление статистики хи-квадрат**: Вычисляем значение статистики хи-квадрат по формуле:\n",
        "\n",
        "  $ \\hat\\chi^2 = \\sum_{k=1}^m \\frac{n}{p_k'}\\left(\\frac{n_k}{n}-p_k'\\right)^2 $\n",
        "\n",
        "где $n_k$ - кол-во наблюдений в $k$-ом  интервале, $n$ - общее кол-во наблюдений.\n",
        "5. **Определение критической области**: Определяем критическую область для заданного уровня значимости $\\ \\alpha $ и количества степеней свободы $\\ m-1$ .\n",
        "\n",
        "6. **Принятие решения**: Сравниваем значение статистики хи-квадрат с критической областью и делаем вывод о принятии или отвержении нулевой гипотезы о нормальном распределении данных.\n",
        "\n",
        "7. **Интерпретация результатов**: Анализируем результаты теста и делаем вывод о подтверждении или отвержении гипотезы о нормальном распределении данных.\n"
      ],
      "metadata": {
        "id": "CPNpcmSP3Uzw"
      }
    },
    {
      "cell_type": "code",
      "source": [
        "def normal_distribution_function(x: float) -> float:\n",
        "    # Кумулятивная функция распределения нормального распределения\n",
        "    return sc.stats.norm.cdf(x, loc=expected_value, scale=(variance**0.5))\n",
        "\n",
        "def interval_probability(interval : Interval) -> float:\n",
        "    # Вероятность попадания случайной величины в интервал\n",
        "    return normal_distribution_function(interval[1]) - normal_distribution_function(interval[0])\n",
        "\n",
        "# Вычисление статистики хи-квадрат\n",
        "n = len(data)\n",
        "significance_level = 0.05\n",
        "chi2_statistic = sum([n/interval_probability(interval) * ((relative_frequency - interval_probability(interval)) ** 2) for interval, relative_frequency in stat_series])\n",
        "\n",
        "# Определение критической области\n",
        "degrees_of_freedom = len(stat_series) - 1\n",
        "critical_value = sc.stats.chi2.ppf(1 - significance_level, degrees_of_freedom)\n",
        "\n",
        "# Hypothesis testing\n",
        "if chi2_statistic < critical_value:\n",
        "    print(f\"Нулевая гипотеза не противоречит данным на уровне значимости {1 - significance_level}\")\n",
        "else:\n",
        "    print(f\"Альтернативная гипотеза вероятнее, чем нулевая, на уровне значимости {1 - significance_level}\")"
      ],
      "metadata": {
        "colab": {
          "base_uri": "https://localhost:8080/"
        },
        "id": "n6Q98PYG43qN",
        "outputId": "7e059f8e-f11b-4586-fb4b-ac60e9236034"
      },
      "execution_count": null,
      "outputs": [
        {
          "output_type": "stream",
          "name": "stdout",
          "text": [
            "Нулевая гипотеза не противоречит данным на уровне значимости 0.95\n"
          ]
        }
      ]
    },
    {
      "cell_type": "markdown",
      "source": [
        "### Пункт 6. Предполагая, что выборка порождена гауссовской случайной величиной, постройте доверительные интервалы уровня надёжности 0.95 для математического ожидания и дисперсии наблюдаемой случайной величины."
      ],
      "metadata": {
        "id": "errU7CXWCuk-"
      }
    },
    {
      "cell_type": "markdown",
      "source": [
        "Рассмотрим доверительный интервал для математического ожидания $\\ m $  гауссовской случайной величины на основе теоремы Фишера.\n",
        "\n",
        "1. **Доверительный интервал для математического ожидания**:\n",
        "\n",
        "    Согласно теореме Фишера, случайная величина\n",
        "    $\\ \\sqrt{n-1} \\cdot \\frac{(\\hat{m} - m)}{s} $\\\n",
        "    распределена по $\\ t $-распределению с $\\ n-1 $ степенями свободы.\n",
        "\n",
        "    Таким образом, доверительный интервал для математического ожидания с уровнем доверия $\\ 1-\\alpha $ можно выразить как:\n",
        "    $\\ \\hat{m} - \\frac{s}{\\sqrt{n-1}} \\cdot t\\left(1-\\frac{\\alpha}{2}; n-1\\right) < m < \\hat{m} + \\frac{s}{\\sqrt{n-1}} \\cdot t\\left(1-\\frac{\\alpha}{2}; n-1\\right) $\n",
        "\n",
        "\n"
      ],
      "metadata": {
        "id": "dKpnyuGvDFvO"
      }
    },
    {
      "cell_type": "code",
      "source": [
        "# Рассчитываем доверительные интервалы для математического ожидания и дисперсии\n",
        "\n",
        "# Доверительный интервал для математического ожидания\n",
        "mean_additive = (variance ** 0.5) / ((n - 1) ** 0.5) * sc.stats.t.ppf(1 - significance_level / 2, n - 1)\n",
        "mean_confidence_interval: Interval = (expected_value - mean_additive, expected_value + mean_additive)\n",
        "\n",
        "# Выводим результаты\n",
        "print(f\"Доверительный интервал уровня надежности {1 - significance_level} для математического ожидания: {mean_confidence_interval}\")"
      ],
      "metadata": {
        "colab": {
          "base_uri": "https://localhost:8080/"
        },
        "id": "M0Pm_LssEmqJ",
        "outputId": "540038f0-54bc-4184-a56d-c132d0990b4e"
      },
      "execution_count": null,
      "outputs": [
        {
          "output_type": "stream",
          "name": "stdout",
          "text": [
            "Доверительный интервал уровня надежности 0.95 для математического ожидания: (96.18986028025452, 97.77680638641215)\n"
          ]
        }
      ]
    },
    {
      "cell_type": "markdown",
      "source": [
        "Рассмотрим доверительный интервал для дисперсии $\\ \\sigma^2 $ гауссовской случайной величины на основе теоремы Фишера\n",
        "2. **Доверительный интервал для дисперсии**:\n",
        "\n",
        "    Согласно теореме Фишера, случайная величина\n",
        "    $\\ \\frac{n \\cdot s^2}{\\sigma^2} $\n",
        "    распределена по хи-квадрат распределению с $\\ n-1 $ степенями свободы.\n",
        "\n",
        "    Таким образом, доверительный интервал для дисперсии с уровнем доверия $\\ 1-\\alpha $ можно выразить как:\n",
        "    $\\ \\sqrt{\\frac{n \\cdot s^2}{\\chi^2\\left(1-\\frac{\\alpha}{2}; n-1\\right)}} < \\sigma < \\sqrt{\\frac{n \\cdot s^2}{\\chi^2\\left(\\frac{\\alpha}{2}; n-1\\right)}} $\n",
        "\n"
      ],
      "metadata": {
        "id": "qYkeOPeKLHXW"
      }
    },
    {
      "cell_type": "code",
      "source": [
        "# Доверительный интервал для дисперсии\n",
        "chi_square_left = sc.stats.chi2.ppf(1 - significance_level / 2, n - 1)\n",
        "chi_square_right = sc.stats.chi2.ppf(significance_level / 2, n - 1)\n",
        "variance_confidence_interval: Interval = ((n * variance / chi_square_left) ** 0.5, (n * variance / chi_square_right) ** 0.5)\n",
        "\n",
        "# Выводим результаты\n",
        "print(f\"Доверительный интервал уровня надежности {1 - significance_level} для дисперсии: {variance_confidence_interval}\")"
      ],
      "metadata": {
        "colab": {
          "base_uri": "https://localhost:8080/"
        },
        "id": "MFn2fOYRK1R0",
        "outputId": "108f1471-53d9-4349-df0b-b7a411773eb2"
      },
      "execution_count": null,
      "outputs": [
        {
          "output_type": "stream",
          "name": "stdout",
          "text": [
            "Доверительный интервал уровня надежности 0.95 для дисперсии: (3.895824186795533, 5.028130437847809)\n"
          ]
        }
      ]
    },
    {
      "cell_type": "markdown",
      "source": [
        "## Задача №2.\n",
        "Сгенерируйте выборку объёма 50 из распределения $F(x)$, соответствующего вашему\n",
        "варианту. Постройте гистограмму с 6 столбцами для полученной выборки. Сгенерируйте выборку объёма 500 из того же распределения и постройте гистограмму с 10 столбцами для неё. Опишите метод моделирования выборки соответствующей распределению $F(x)$.\n",
        "Применяя критерий хи-квадрат для простой гипотезы, проверьте гипотезу о том, что\n",
        "выборки объёма 50 и 500 соответствуют сгенерированному распределению. По большой\n",
        "и малой выборкам проверьте гипотезу о том, что математическое ожидание наблюдаемой СВ равно $m_0$. Проведите сравнение полученных результатов. Если имеются различия, попытайтесь их описать и объяснить."
      ],
      "metadata": {
        "id": "0gGJGWADL-ED"
      }
    },
    {
      "cell_type": "markdown",
      "source": [
        "По условию нам дано экспоненциальное распределение:\n",
        "$$F(x) = \\begin{cases}\n",
        "      0 & \\text{при } x < 0 \\\\\n",
        "      1 - e^{-\\lambda x} & \\text{при } x \\geq 0\n",
        "   \\end{cases}\n",
        "$$\n",
        "с параметром $\\lambda = 2$ и мат. ожидание СВ: $m_0 = 0.5$  \n",
        "Подставим параметр 2:\n",
        "$$F(x) = \\begin{cases}\n",
        "      0 & \\text{при } x < 0 \\\\\n",
        "      1 - e^{-2x} & \\text{при } x \\geq 0\n",
        "   \\end{cases}\n",
        "$$"
      ],
      "metadata": {
        "id": "MU4_dWqoMeLh"
      }
    },
    {
      "cell_type": "code",
      "source": [
        "# Инициализация параметра\n",
        "lambda_val = 2\n",
        "\n",
        "# Функция распределения F(x)\n",
        "def myF(x: float) -> float:\n",
        "    if x < 0:\n",
        "        return 0\n",
        "    return 1 - pow(e, - lambda_val * x)\n",
        "\n",
        "# Обратная функция распределения F^{-1}(x)\n",
        "def inverted_myF(p: float) -> float:\n",
        "    match p:\n",
        "        case 0:\n",
        "            return 0\n",
        "        case 1:\n",
        "            raise ValueError(f'p={p} должно находиться в диапазоне (0, 1)')\n",
        "        case _ if not 0 < p < 1:\n",
        "            raise ValueError(f'p={p} должно находиться в диапазоне (0, 1)')\n",
        "        case _:\n",
        "            return -log(1 - p) / lambda_val\n",
        "\n",
        "# Генерация данных\n",
        "def generate_data(size: int) -> Selection:\n",
        "    return [inverted_myF(r.random()) for _ in range(size)]"
      ],
      "metadata": {
        "id": "6wnFAKUDMtc7"
      },
      "execution_count": null,
      "outputs": []
    },
    {
      "cell_type": "markdown",
      "source": [
        "Так как нам известна функция распределения СВ, можно получить выборку.\n",
        "\n",
        "Сгенерируем выборку объёма 50 и построим гистограмму с 6 столбцами для полученной выборки, а также построим гистограмму для выборки объема 500 с 10 столбцами :"
      ],
      "metadata": {
        "id": "E4jsc7nUOPKg"
      }
    },
    {
      "cell_type": "code",
      "source": [
        "# Генерируем выборку объема 50\n",
        "data_50: Selection = generate_data(50)\n",
        "# Генерируем выборку объема 500\n",
        "data_500: Selection = generate_data(500)\n",
        "\n",
        "# Мат. ожидание\n",
        "m0 = 0.5\n",
        "\n",
        "# Старое решение (или же можно использовать для сверки...)\n",
        "'''\n",
        "# Строим две гистограммы\n",
        "fig, [ax1, ax2] = plt.subplots(1,2)\n",
        "ax1.hist(data_50, 6)\n",
        "ax1.set_title('Выборка объема 50')\n",
        "ax2.hist(data_500, 10)\n",
        "ax2.set_title('Выборка объема 500')\n",
        "\n",
        "plt.show()\n",
        "'''\n",
        "# Данные для выборки размером 50\n",
        "intervals_count_50 = sturges_rule(data_50)\n",
        "intervals_50 = generate_intervals(data_50, intervals_count_50)\n",
        "stat_series_50 = build_statistical_series(data_50, intervals_50)\n",
        "gist_delta_50 = (max(data_50) - min(data_50)) / intervals_count_50\n",
        "\n",
        "fig, [ax1, ax2] = plt.subplots(1, 2)\n",
        "# Левый график с выборкой 50\n",
        "ax1.bar([format_interval(s[0]) for s in stat_series_50], [s[1] / gist_delta_50 for s in stat_series_50])\n",
        "ax1.set_title('Выборка объема 50')\n",
        "\n",
        "# Данные для выборки размером 500\n",
        "intervals_count_500 = sturges_rule(data_500)\n",
        "intervals_500 = generate_intervals(data_500, intervals_count_500)\n",
        "stat_series_500 = build_statistical_series(data_500, intervals_500)\n",
        "gist_delta_500 = (max(data_500) - min(data_500)) / intervals_count_500\n",
        "\n",
        "# Правый график с выборкой 500\n",
        "ax2.bar([format_interval(s[0]) for s in stat_series_500], [s[1] / gist_delta_500 for s in stat_series_500])\n",
        "ax2.set_title('Выборка объема 500')\n",
        "\n",
        "plt.show()"
      ],
      "metadata": {
        "colab": {
          "base_uri": "https://localhost:8080/",
          "height": 452
        },
        "id": "Ypf6RT6HP2nS",
        "outputId": "21286e82-cbc3-4119-a90e-26c4dd3d56e1"
      },
      "execution_count": null,
      "outputs": [
        {
          "output_type": "display_data",
          "data": {
            "text/plain": [
              "<Figure size 640x480 with 2 Axes>"
            ],
            "image/png": "[encoded data removed]"
          },
          "metadata": {}
        }
      ]
    },
    {
      "cell_type": "markdown",
      "source": [
        "При помощи критерия хи-квадрат проверим, что выборки соответствует распределению F(x). Составим две гипотезы:\n",
        "\n",
        "Гипотеза $H_0$ (нулевая гипотеза) состоит в том, что СВ имеет распределение $F(x)$. Это означает, что наблюдаемые данные хорошо соответствуют теоретической модели $F(x)$.\n",
        "\n",
        "Альтернативная гипотеза $H_а$ заключается в том, что случайная величина имеет какое-то другое распределение, отличное от $F(x)$. Это означает, что наблюдаемые данные не соответствуют теоретической модели $F(x)$.\n"
      ],
      "metadata": {
        "id": "YRhHnto8Ra5B"
      }
    },
    {
      "cell_type": "code",
      "source": [
        "# Функция для создания интервалов статистического ряда\n",
        "def P(interval: Interval) -> float:\n",
        "  return myF(interval[1]) - myF(interval[0])\n",
        "\n",
        "def create_intervals(data: Selection, num_intervals: int) -> list[Interval]:\n",
        "    intervals = nu.linspace(min(data), max(data), num_intervals + 1)\n",
        "    return list(zip(intervals, intervals[1:]))\n",
        "\n",
        "# Функция для вычисления статистического ряда\n",
        "def compute_statistical_series(data: Selection, intervals: list[Interval]) -> StatSeries:\n",
        "    return [(interval, sum([is_in_interval(x, interval, i+1 == len(intervals)) for x in data])/len(data)) for i, interval in enumerate(intervals)]\n",
        "\n",
        "# Функция для вычисления значения статистики хи-квадрат\n",
        "def calculate_chi2(data: Selection, stat_series: StatSeries) -> float:\n",
        "    return sum([len(data)/P(ss[0]) * ((ss[1] - P(ss[0])) ** 2) for ss in stat_series])\n",
        "\n",
        "alpha = 0.05  # Уровень значимости\n",
        "# Создание интервалов для двух наборов данных\n",
        "intervals_50 = create_intervals(data_50, 6)\n",
        "intervals_500 = create_intervals(data_500, 10)\n",
        "\n",
        "# Вычисление статистического ряда для каждого набора данных\n",
        "stat_series_50 = compute_statistical_series(data_50, intervals_50)\n",
        "stat_series_500 = compute_statistical_series(data_500, intervals_500)\n",
        "\n",
        "# Вычисление значений статистики хи-квадрат\n",
        "chi2_eval50 = calculate_chi2(data_50, stat_series_50)\n",
        "chi2_eval500 = calculate_chi2(data_500, stat_series_500)\n",
        "\n",
        "# Определение критических значений статистики хи-квадрат для 1-ой и 2-о1 выборок\n",
        "chi2_percent_50 = sc.stats.chi2.ppf(1 - alpha, len(stat_series_50) - 1)\n",
        "chi2_percent_500 = sc.stats.chi2.ppf(1 - alpha, len(stat_series_500) - 1)\n",
        "\n",
        "# Проверка попадания значений статистики хи-квадрат в доверительный интервал\n",
        "print(\"Выборка объемом 50:\")\n",
        "if chi2_eval50 < chi2_percent_50:\n",
        "    print(f\"Гипотеза не противоречит настоящей, при уровне надежности {1 - alpha}\")\n",
        "else:\n",
        "    print(f\"Альтернативная гипотеза вероятнее, с уровнем надежности {1 - alpha}\")\n",
        "\n",
        "print(\"Выборка объемом 500:\")\n",
        "if chi2_eval500 < chi2_percent_500:\n",
        "    print(f\"Гипотеза не противоречит настоящей, при уровне надежности {1 - alpha}\")\n",
        "else:\n",
        "    print(f\"Альтернативная гипотеза вероятнее, с уровнем надежности {1 - alpha}\")"
      ],
      "metadata": {
        "colab": {
          "base_uri": "https://localhost:8080/"
        },
        "id": "UhTijBJzRbQV",
        "outputId": "59524ead-4064-4115-9892-763837beb846"
      },
      "execution_count": null,
      "outputs": [
        {
          "output_type": "stream",
          "name": "stdout",
          "text": [
            "Выборка объемом 50:\n",
            "Гипотеза не противоречит настоящей, при уровне надежности 0.95\n",
            "Выборка объемом 500:\n",
            "Гипотеза не противоречит настоящей, при уровне надежности 0.95\n"
          ]
        }
      ]
    },
    {
      "cell_type": "markdown",
      "source": [
        "Вычислим средне квадратическое отклонение $\\sigma$ для наблюдаемой СВ.\n",
        "\n",
        "Из функции распределения, через производную, находим функцию плотности:\n",
        "$$F(x) = \\begin{cases}\n",
        "      0 & \\text{при } x < 0 \\\\\n",
        "      1 - e^{-2x} & \\text{при } x \\geq 0\n",
        "   \\end{cases}\n",
        "$$\n",
        "$\\frac{d}{dx}(1 - e^{-2x}) = 2 \\cdot e^{-2x}$, значит:\n",
        "$$f(x) = \\begin{cases}\n",
        "      0 & \\text{при } x < 0 \\\\\n",
        "      2 \\cdot e^{-2x} & \\text{при } x \\geq 0\n",
        "   \\end{cases}\n",
        "$$\n",
        "\n",
        "Так как по условию дано экспоненциальное распределение с параметром 2, а $\\sigma^2 = \\lambda^{-2}$, то:\n",
        "\n",
        "$\\sigma^{2} = \\frac{1}{2^2} \\Rightarrow \\sigma = \\sqrt{\\frac{1}{4}} = \\frac{1}{2} $\n",
        "\n",
        "По большой и малой выборкам проверим гипотезу о том, что математическое ожидание наблюдаемой СВ равно $m_0$.\n",
        "\n",
        "Гипотезы:\n",
        "$H_0: m = m_0, H_a: m \\ne m_0$\n",
        "\n",
        "По центральной предельной теореме: $\\frac{(\\overline{X} - m_0)\\sqrt{n}}{\\sigma} \\Big|_{H_0} = \\frac{(\\overline{X} - m)\\sqrt{n}}{\\sigma}\\sim N(0,1)$.\n",
        "\n",
        "Доверительная область: $(Z_{\\alpha/2}, Z_{1-\\alpha/2})$, Критическая область: $(-\\infty, Z_{\\alpha/2})\\cup (Z_{1-\\alpha/2}, +\\infty)$"
      ],
      "metadata": {
        "id": "phXyu3wrbNUQ"
      }
    },
    {
      "cell_type": "code",
      "source": [
        "# Вычисление среднего для данных\n",
        "mean_50 = sc.stats.tmean(data_50)\n",
        "mean_500 = sc.stats.tmean(data_500)\n",
        "\n",
        "# Оценка\n",
        "sigma = 1 / 2  # Известное стандартное отклонение\n",
        "\n",
        "eval_50 = ((mean_50 - m0) * (len(data_50) ** 0.5)) / sigma\n",
        "eval_500 = ((mean_500 - m0) * (len(data_500) ** 0.5)) / sigma\n",
        "\n",
        "# Определение критической области\n",
        "z_left = sc.stats.norm.ppf(alpha / 2)\n",
        "z_right = sc.stats.norm.ppf(1 - alpha / 2)\n",
        "\n",
        "# Проверка гипотезы для выборки объема 50\n",
        "print(\"Выборка объемом 50:\")\n",
        "if eval_50 >= z_left and eval_50 <= z_right:\n",
        "    display(f\"Гипотеза не противоречит данным, при уровне надежности {1 - alpha}\")\n",
        "else:\n",
        "    display(f\"Альтернативная гипотеза вероятнее, с уровнем надежности {1 - alpha}\")\n",
        "\n",
        "# Проверка гипотезы для выборки объема 500\n",
        "print(\"Выборка объемом 500:\")\n",
        "if eval_500 >= z_left and eval_500 <= z_right:\n",
        "    display(f\"Гипотеза не противоречит данным, при уровне надежности {1 - alpha}\")\n",
        "else:\n",
        "    display(f\"Альтернативная гипотеза вероятнее, с уровнем надежности {1 - alpha}\")\n"
      ],
      "metadata": {
        "colab": {
          "base_uri": "https://localhost:8080/",
          "height": 92
        },
        "id": "4gaKO7B-iooU",
        "outputId": "5c67bc54-da08-47c0-debc-668d396b9137"
      },
      "execution_count": null,
      "outputs": [
        {
          "output_type": "stream",
          "name": "stdout",
          "text": [
            "Выборка объемом 50:\n"
          ]
        },
        {
          "output_type": "display_data",
          "data": {
            "text/plain": [
              "'Гипотеза не противоречит данным, при уровне надежности 0.95'"
            ],
            "application/vnd.google.colaboratory.intrinsic+json": {
              "type": "string"
            }
          },
          "metadata": {}
        },
        {
          "output_type": "stream",
          "name": "stdout",
          "text": [
            "Выборка объемом 500:\n"
          ]
        },
        {
          "output_type": "display_data",
          "data": {
            "text/plain": [
              "'Гипотеза не противоречит данным, при уровне надежности 0.95'"
            ],
            "application/vnd.google.colaboratory.intrinsic+json": {
              "type": "string"
            }
          },
          "metadata": {}
        }
      ]
    },
    {
      "cell_type": "markdown",
      "source": [
        "#### Вывод\n",
        "Так как результат для обоих выборок показал, что гипотеза $H_0$ не противоречит данным при данном уровне надежности, то можно сделать вывод, что нет статистически значимых различий между средними значениями выборок и предполагаемым значением $m_0$ на этом уровне значимости."
      ],
      "metadata": {
        "id": "E6dX3WwnpWln"
      }
    }
  ]
}